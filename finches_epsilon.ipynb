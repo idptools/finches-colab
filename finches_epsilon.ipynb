{
  "nbformat": 4,
  "nbformat_minor": 0,
  "metadata": {
    "colab": {
      "provenance": [],
      "authorship_tag": "ABX9TyO2NP3FslkY1XeoKHLHKScz",
      "include_colab_link": true
    },
    "kernelspec": {
      "name": "python3",
      "display_name": "Python 3"
    },
    "language_info": {
      "name": "python"
    }
  },
  "cells": [
    {
      "cell_type": "markdown",
      "metadata": {
        "id": "view-in-github",
        "colab_type": "text"
      },
      "source": [
        "<a href=\"https://colab.research.google.com/github/idptools/finches-colab/blob/main/finches_epsilon.ipynb\" target=\"_parent\"><img src=\"https://colab.research.google.com/assets/colab-badge.svg\" alt=\"Open In Colab\"/></a>"
      ]
    },
    {
      "cell_type": "markdown",
      "source": [
        "# Epsilon predictions online (finches-colab)\n",
        "\n",
        "## About\n",
        "This notebook enables prediction of mean-field epsilon values between a pair of sequences.\n",
        "\n",
        "This notebook does NOT take folded domain information into account, so should only be used to investigate how IDRs might interact with partners.\n",
        "\n",
        "## Changelog\n",
        "\n",
        "* **Version 1.0** (May 28th 2025) Initial release\n",
        "\n",
        "\n",
        "## Citing\n",
        "If you find this type of analysis useful, please consider citing our paper:\n",
        "\n",
        "\n",
        "**[Sequence-based prediction of intermolecular interactions driven by disordered regions](https://www.science.org/doi/full/10.1126/science.adq8381)**\n",
        "<br>Ginell, G. M., Emenecker, R. J., Lotthammer, J. M., Keeley, A. T., Plassmeyer, S. P., Razo, N., Usher, E. T., Pelham, J. F. & Holehouse, A. S.\n",
        "<br>\n",
        "**Science** 388, eadq8381 (2025).\n",
        "  \n",
        "\n",
        "For any questions or concerns please contact Alex via electronic mail at Alex dot holehouse at wustl dot edu.\n",
        "\n",
        "## References\n",
        "If you use FINCHES, place make sure to ALSO cite the underlying forcefields FINCHES makes use of. Specifically, the Mpipi and CALVADOS should be cited as follows.\n",
        "\n",
        "* CALVADOS2 - [Tesei, G. & Lindorff-Larsen, K. Improved predictions of phase behaviour of intrinsically disordered proteins by tuning the interaction range. Open Res. Eur. 2, 94 (2022)](https://open-research-europe.ec.europa.eu/articles/2-94)\n",
        "\n",
        "* Mpipi - [Joseph, J. A., Reinhardt, A., Aguirre, A., Chew, P. Y., Russell, K. O., Espinosa, J. R., Garaizar, A. & Collepardo-Guevara, R. Physics-driven coarse-grained model for biomolecular phase separation with near-quantitative accuracy. Nat Comput Sci 1, 732–743 (2021).](http://dx.doi.org/10.1038/s43588-021-00155-3)\n",
        "\n",
        "\n",
        "Of note; the default Mpipi model is actually Mpipi-GG, but we encourage folks to cite the Mpipi paper over the Mpipi-GG paper.\n",
        "* Mpipi-GG - [Lotthammer, J. M., Ginell, G. M., Griffith, D., Emenecker, R. J. & Holehouse, A. S. Direct prediction of intrinsically disordered protein conformational properties from sequence. Nat. Methods 21, 465–476 (2024).](http://dx.doi.org/10.1038/s41592-023-02159-5)\n"
      ],
      "metadata": {
        "id": "P5P-pt_Xlas9"
      }
    },
    {
      "cell_type": "code",
      "source": [
        "#@title Build intermap\n",
        "#@markdown  This notebook will predict the epsilon value between two sequences.\n",
        "\n",
        "#@markdown **NOTE**: The first time this is executed finches is installed. However\n",
        "#@markdown once installed the notebook can be re-run without needing to\n",
        "#@markdown reinstall, so the FIRST analysis takes ~1 minute but all subsequent\n",
        "#@markdown analyses take a few seconds.\n",
        "\n",
        "# first check if init_done exists and initialize\n",
        "# if not.\n",
        "if 'init_done' not in globals():\n",
        "    init_done = False\n",
        "\n",
        "# init block - only runs once\n",
        "if not init_done:\n",
        "  print('Installing finches... this will take a minute or so')\n",
        "\n",
        "  !pip install git+https://git@github.com/idptools/finches.git --quiet;\n",
        "\n",
        "  # import\n",
        "  from finches import Mpipi_frontend, CALVADOS_frontend\n",
        "  from google.colab import files\n",
        "  import pandas as pd\n",
        "\n",
        "  # setup frontend objects\n",
        "  cf = CALVADOS_frontend()\n",
        "  mf = Mpipi_frontend()\n",
        "  init_done = True\n",
        "  print('Installation complete!')\n",
        "else:\n",
        "  print('Finches is ready to go!')\n",
        "\n",
        "# --------------------------------\n",
        "# start of code\n",
        "# --------------------------------\n",
        "\n",
        "#@markdown  -------\n",
        "#@markdown  Define sequences of interest\n",
        "sequence_1 = \"MASASSSQRGRSGSGNFGGGRGGGFGGNDNFGRGGNFSGRGGFGGSRGGGGYGGSGDGYNGFGNDGSNFGGGGSYNDFGNYNNQSSNFGPMKGGNFGGRSSGPYGGGGQYFAKPRNQGGYGGSSSSSSYGSGRRF\" #@param {type:\"string\"}\n",
        "sequence_2 = \"MASASSSQRGRSGSGNFGGGRGGGFGGNDNFGRGGNFSGRGGFGGSRGGGGYGGSGDGYNGFGNDGSNFGGGGSYNDFGNYNNQSSNFGPMKGGNFGGRSSGPYGGGGQYFAKPRNQGGYGGSSSSSSYGSGRRF\" #@param {type:\"string\"}\n",
        "#@markdown  - Each sequence should be 30 residues or longer. Note that the examples here are the LCD of hnRNPA1\n",
        "\n",
        "\n",
        "#@markdown  -------\n",
        "#@markdown  ## Define parameters for predictions\n",
        "use_mpipi = True #@param {type:\"boolean\"}\n",
        "#@markdown  * If ticked an Mpipi-based intermap will be generated\n",
        "use_calvados = True #@param {type:\"boolean\"}\n",
        "#@markdown  * If ticked a CALVADOS-based intermap will be generated\n",
        "\n",
        "\n",
        "if use_mpipi:\n",
        "  mpipi_eps = mf.epsilon(sequence_1, sequence_2)\n",
        "  print(f\"Mpipi epsilon: {mpipi_eps}\")\n",
        "\n",
        "if use_calvados:\n",
        "  print('Generating CALVADOS intermap')\n",
        "  cf_eps = cf.epsilon(sequence_1, sequence_2)\n",
        "  print(f\"CALVADOS epsilon: {cf_eps}\")\n",
        "\n"
      ],
      "metadata": {
        "id": "L3HG7bGnlOGR"
      },
      "execution_count": null,
      "outputs": []
    }
  ]
}